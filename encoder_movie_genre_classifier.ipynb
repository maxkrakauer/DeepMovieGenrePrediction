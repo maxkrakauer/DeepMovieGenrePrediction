{
  "nbformat": 4,
  "nbformat_minor": 0,
  "metadata": {
    "colab": {
      "name": "encoder_movie_genre_classifier.ipynb",
      "provenance": [],
      "collapsed_sections": [],
      "machine_shape": "hm",
      "authorship_tag": "ABX9TyMzcIuKqfQNHvpz/y2ouR4z",
      "include_colab_link": true
    },
    "kernelspec": {
      "name": "python3",
      "display_name": "Python 3"
    },
    "language_info": {
      "name": "python"
    },
    "accelerator": "TPU"
  },
  "cells": [
    {
      "cell_type": "markdown",
      "metadata": {
        "id": "view-in-github",
        "colab_type": "text"
      },
      "source": [
        "<a href=\"https://colab.research.google.com/github/maxkrakauer/DeepMovieGenrePrediction/blob/main/encoder_movie_genre_classifier.ipynb\" target=\"_parent\"><img src=\"https://colab.research.google.com/assets/colab-badge.svg\" alt=\"Open In Colab\"/></a>"
      ]
    },
    {
      "cell_type": "code",
      "metadata": {
        "id": "qhG0Q_qIf1gO"
      },
      "source": [
        "!pip install tensorflow"
      ],
      "execution_count": null,
      "outputs": []
    },
    {
      "cell_type": "code",
      "metadata": {
        "id": "hLXIFR_gf53R",
        "colab": {
          "base_uri": "https://localhost:8080/"
        },
        "outputId": "4698fa30-c133-41be-81c7-bea53080c2dd"
      },
      "source": [
        "from google.colab import drive\n",
        "drive.mount('/content/drive',force_remount=False)"
      ],
      "execution_count": null,
      "outputs": [
        {
          "output_type": "stream",
          "text": [
            "Mounted at /content/drive\n"
          ],
          "name": "stdout"
        }
      ]
    },
    {
      "cell_type": "code",
      "metadata": {
        "id": "D2MVsMvbf8bM",
        "colab": {
          "base_uri": "https://localhost:8080/"
        },
        "outputId": "46ec3fa1-2f0d-4624-8c05-b6080e421476"
      },
      "source": [
        "import pandas as pd\n",
        "import numpy as np\n",
        "import csv\n",
        "\n",
        "data = pd.read_csv('/content/drive/MyDrive/FinalProject/movie_plots_by_poster_revised.csv') #,encoding = \"ISO-8859-1\"\n",
        "truncat = data[:30000]\n",
        "truncat.values[0][4]"
      ],
      "execution_count": null,
      "outputs": [
        {
          "output_type": "execute_result",
          "data": {
            "text/plain": [
              "7.4"
            ]
          },
          "metadata": {},
          "execution_count": 3
        }
      ]
    },
    {
      "cell_type": "code",
      "metadata": {
        "id": "Y6lxPK4vgQI-"
      },
      "source": [
        "import tensorflow_hub as hub\n",
        "import tensorflow as tf\n",
        "import torch\n",
        "\n",
        "model = \"https://tfhub.dev/google/universal-sentence-encoder/4\"\n",
        "hub_layer = hub.KerasLayer(model, input_shape=[], dtype=tf.string, trainable=True)"
      ],
      "execution_count": null,
      "outputs": []
    },
    {
      "cell_type": "code",
      "metadata": {
        "colab": {
          "base_uri": "https://localhost:8080/"
        },
        "id": "AQDzfwH8-lll",
        "outputId": "b4af67e0-f82c-4558-aeff-2f5364ce82fc"
      },
      "source": [
        "import numpy as np\n",
        "import tensorflow as tf\n",
        "import tensorflow_hub as hub\n",
        "import tensorflow_datasets as tfds\n",
        "\n",
        "import matplotlib.pyplot as plt\n",
        "\n",
        "print(\"Version: \", tf.__version__)\n",
        "print(\"Eager mode: \", tf.executing_eagerly())\n",
        "print(\"Hub version: \", hub.__version__)\n",
        "print(\"GPU is\", \"available\" if tf.config.list_physical_devices('GPU') else \"NOT AVAILABLE\")"
      ],
      "execution_count": null,
      "outputs": [
        {
          "output_type": "stream",
          "text": [
            "Version:  2.6.0\n",
            "Eager mode:  True\n",
            "Hub version:  0.12.0\n",
            "GPU is NOT AVAILABLE\n"
          ],
          "name": "stdout"
        }
      ]
    },
    {
      "cell_type": "code",
      "metadata": {
        "id": "nuKkSQGDiNRq"
      },
      "source": [
        "x = truncat.drop(['id','poster','title','year','rating','genre','action','adventure','animation','comedy','crime','drama','fantasy','horror','mystery','romance','sci-fi','short','thriller'], axis = 1)\n",
        "x = x.to_numpy()"
      ],
      "execution_count": null,
      "outputs": []
    },
    {
      "cell_type": "code",
      "metadata": {
        "id": "STd4WEKQnlIM"
      },
      "source": [
        "y = truncat.drop(['id','poster','title','year','rating','genre','plot'], axis = 1)\n",
        "y = y.to_numpy()"
      ],
      "execution_count": null,
      "outputs": []
    },
    {
      "cell_type": "code",
      "metadata": {
        "id": "vF9Zp5lDqt8M"
      },
      "source": [
        "x_train, x_test = x[:24000,:], x[24000:,:]\n",
        "y_train, y_test = y[:24000,:], y[24000:,:]"
      ],
      "execution_count": null,
      "outputs": []
    },
    {
      "cell_type": "code",
      "metadata": {
        "id": "lT84EVD8g7jp",
        "colab": {
          "base_uri": "https://localhost:8080/"
        },
        "outputId": "2f0df611-940b-4242-f1c3-0122ecddcaac"
      },
      "source": [
        "model = tf.keras.Sequential()\n",
        "model.add(hub_layer)\n",
        "model.add(tf.keras.layers.Dense(16, activation='relu'))\n",
        "model.add(tf.keras.layers.Dense(13))\n",
        "\n",
        "model.summary()"
      ],
      "execution_count": null,
      "outputs": [
        {
          "output_type": "stream",
          "text": [
            "Model: \"sequential\"\n",
            "_________________________________________________________________\n",
            "Layer (type)                 Output Shape              Param #   \n",
            "=================================================================\n",
            "keras_layer (KerasLayer)     (None, 512)               256797824 \n",
            "_________________________________________________________________\n",
            "dense (Dense)                (None, 16)                8208      \n",
            "_________________________________________________________________\n",
            "dense_1 (Dense)              (None, 13)                221       \n",
            "=================================================================\n",
            "Total params: 256,806,253\n",
            "Trainable params: 256,806,253\n",
            "Non-trainable params: 0\n",
            "_________________________________________________________________\n"
          ],
          "name": "stdout"
        }
      ]
    },
    {
      "cell_type": "code",
      "metadata": {
        "id": "ek9e0ez5rfsz"
      },
      "source": [
        "model.compile(optimizer='adam',\n",
        "              loss=tf.losses.BinaryCrossentropy(from_logits=True),\n",
        "              metrics=[tf.metrics.BinaryAccuracy(threshold=0.0, name='accuracy')])"
      ],
      "execution_count": null,
      "outputs": []
    },
    {
      "cell_type": "code",
      "metadata": {
        "id": "HS4gHrFkr7pn"
      },
      "source": [
        "x_val = x_train[0:5000]\n",
        "partial_x_train = x_train[5000:24000]\n",
        "\n",
        "y_val = y_train[0:5000]\n",
        "partial_y_train = y_train[5000:24000]"
      ],
      "execution_count": null,
      "outputs": []
    },
    {
      "cell_type": "code",
      "metadata": {
        "id": "IZJLj3crsY76",
        "colab": {
          "base_uri": "https://localhost:8080/"
        },
        "outputId": "ecc83903-2972-4537-e171-ee057b5793a9"
      },
      "source": [
        "history = model.fit(partial_x_train,\n",
        "                    partial_y_train,\n",
        "                    epochs=20,\n",
        "                    batch_size=512,\n",
        "                    validation_data=(x_val, y_val),\n",
        "                    verbose=1)"
      ],
      "execution_count": null,
      "outputs": [
        {
          "output_type": "stream",
          "text": [
            "Epoch 1/20\n",
            "38/38 [==============================] - 33s 696ms/step - loss: 0.5723 - accuracy: 0.7911 - val_loss: 0.4871 - val_accuracy: 0.8254\n",
            "Epoch 2/20\n",
            "38/38 [==============================] - 26s 690ms/step - loss: 0.4727 - accuracy: 0.8195 - val_loss: 0.4190 - val_accuracy: 0.8414\n",
            "Epoch 3/20\n",
            "38/38 [==============================] - 26s 683ms/step - loss: 0.4266 - accuracy: 0.8238 - val_loss: 0.3885 - val_accuracy: 0.8414\n",
            "Epoch 4/20\n",
            "38/38 [==============================] - 26s 692ms/step - loss: 0.3967 - accuracy: 0.8280 - val_loss: 0.3699 - val_accuracy: 0.8448\n",
            "Epoch 5/20\n",
            "38/38 [==============================] - 26s 680ms/step - loss: 0.3684 - accuracy: 0.8366 - val_loss: 0.3629 - val_accuracy: 0.8466\n",
            "Epoch 6/20\n",
            "38/38 [==============================] - 26s 686ms/step - loss: 0.3392 - accuracy: 0.8497 - val_loss: 0.3563 - val_accuracy: 0.8480\n",
            "Epoch 7/20\n",
            "38/38 [==============================] - 27s 698ms/step - loss: 0.3127 - accuracy: 0.8654 - val_loss: 0.3553 - val_accuracy: 0.8509\n",
            "Epoch 8/20\n",
            "38/38 [==============================] - 26s 687ms/step - loss: 0.2877 - accuracy: 0.8810 - val_loss: 0.3538 - val_accuracy: 0.8522\n",
            "Epoch 9/20\n",
            "38/38 [==============================] - 27s 701ms/step - loss: 0.2621 - accuracy: 0.8956 - val_loss: 0.3566 - val_accuracy: 0.8504\n",
            "Epoch 10/20\n",
            "38/38 [==============================] - 26s 697ms/step - loss: 0.2370 - accuracy: 0.9089 - val_loss: 0.3725 - val_accuracy: 0.8506\n",
            "Epoch 11/20\n",
            "38/38 [==============================] - 27s 701ms/step - loss: 0.2142 - accuracy: 0.9194 - val_loss: 0.3708 - val_accuracy: 0.8516\n",
            "Epoch 12/20\n",
            "38/38 [==============================] - 26s 690ms/step - loss: 0.1916 - accuracy: 0.9303 - val_loss: 0.3806 - val_accuracy: 0.8514\n",
            "Epoch 13/20\n",
            "38/38 [==============================] - 26s 680ms/step - loss: 0.1651 - accuracy: 0.9419 - val_loss: 0.3958 - val_accuracy: 0.8490\n",
            "Epoch 14/20\n",
            "38/38 [==============================] - 26s 687ms/step - loss: 0.1395 - accuracy: 0.9530 - val_loss: 0.4139 - val_accuracy: 0.8531\n",
            "Epoch 15/20\n",
            "38/38 [==============================] - 26s 691ms/step - loss: 0.1182 - accuracy: 0.9617 - val_loss: 0.4378 - val_accuracy: 0.8550\n",
            "Epoch 16/20\n",
            "38/38 [==============================] - 27s 702ms/step - loss: 0.1013 - accuracy: 0.9686 - val_loss: 0.4549 - val_accuracy: 0.8552\n",
            "Epoch 17/20\n",
            "38/38 [==============================] - 27s 715ms/step - loss: 0.0882 - accuracy: 0.9737 - val_loss: 0.4776 - val_accuracy: 0.8498\n",
            "Epoch 18/20\n",
            "38/38 [==============================] - 27s 710ms/step - loss: 0.0770 - accuracy: 0.9778 - val_loss: 0.4868 - val_accuracy: 0.8528\n",
            "Epoch 19/20\n",
            "38/38 [==============================] - 27s 703ms/step - loss: 0.0667 - accuracy: 0.9818 - val_loss: 0.5074 - val_accuracy: 0.8553\n",
            "Epoch 20/20\n",
            "38/38 [==============================] - 28s 731ms/step - loss: 0.0578 - accuracy: 0.9849 - val_loss: 0.5254 - val_accuracy: 0.8553\n"
          ],
          "name": "stdout"
        }
      ]
    },
    {
      "cell_type": "code",
      "metadata": {
        "id": "b2vQij17-9DA",
        "colab": {
          "base_uri": "https://localhost:8080/"
        },
        "outputId": "a4a1d3ab-dd1e-4f1e-b9a8-33bdead21ba0"
      },
      "source": [
        "results = model.evaluate(x_test, y_test)\n",
        "\n",
        "print(results)"
      ],
      "execution_count": null,
      "outputs": [
        {
          "output_type": "stream",
          "text": [
            "188/188 [==============================] - 3s 17ms/step - loss: 0.5665 - accuracy: 0.8474\n",
            "[0.5665088295936584, 0.8473591208457947]\n"
          ],
          "name": "stdout"
        }
      ]
    },
    {
      "cell_type": "code",
      "metadata": {
        "id": "oeJAAqWb_Qp8",
        "colab": {
          "base_uri": "https://localhost:8080/"
        },
        "outputId": "b15e30cf-9f30-404a-91be-6c8fe9b8895d"
      },
      "source": [
        "history_dict = history.history\n",
        "history_dict.keys()"
      ],
      "execution_count": null,
      "outputs": [
        {
          "output_type": "execute_result",
          "data": {
            "text/plain": [
              "dict_keys(['loss', 'accuracy', 'val_loss', 'val_accuracy'])"
            ]
          },
          "metadata": {},
          "execution_count": 14
        }
      ]
    },
    {
      "cell_type": "code",
      "metadata": {
        "id": "5rrOL3Ek_go_",
        "colab": {
          "base_uri": "https://localhost:8080/",
          "height": 295
        },
        "outputId": "98960c36-5783-4e2f-fdee-215ed1c8d636"
      },
      "source": [
        "import matplotlib.pyplot as plt\n",
        "\n",
        "acc = history_dict['accuracy']\n",
        "val_acc = history_dict['val_accuracy']\n",
        "loss = history_dict['loss']\n",
        "val_loss = history_dict['val_loss']\n",
        "\n",
        "epochs = range(1, len(acc) + 1)\n",
        "\n",
        "# \"bo\" is for \"blue dot\"\n",
        "plt.plot(epochs, loss, 'bo', label='Training loss')\n",
        "# b is for \"solid blue line\"\n",
        "plt.plot(epochs, val_loss, 'b', label='Validation loss')\n",
        "plt.title('Training and validation loss')\n",
        "plt.xlabel('Epochs')\n",
        "plt.ylabel('Loss')\n",
        "plt.legend()\n",
        "\n",
        "plt.show()"
      ],
      "execution_count": null,
      "outputs": [
        {
          "output_type": "display_data",
          "data": {
            "image/png": "[encoded data removed]",
            "text/plain": [
              "<Figure size 432x288 with 1 Axes>"
            ]
          },
          "metadata": {
            "needs_background": "light"
          }
        }
      ]
    },
    {
      "cell_type": "code",
      "metadata": {
        "id": "7fFsL9FR_1fD",
        "colab": {
          "base_uri": "https://localhost:8080/",
          "height": 295
        },
        "outputId": "5147f908-aced-4245-e34a-968c5f680e88"
      },
      "source": [
        "plt.clf()   # clear figure\n",
        "\n",
        "plt.plot(epochs, acc, 'bo', label='Training acc')\n",
        "plt.plot(epochs, val_acc, 'b', label='Validation acc')\n",
        "plt.title('Training and validation accuracy')\n",
        "plt.xlabel('Epochs')\n",
        "plt.ylabel('Accuracy')\n",
        "plt.legend()\n",
        "\n",
        "plt.show()"
      ],
      "execution_count": null,
      "outputs": [
        {
          "output_type": "display_data",
          "data": {
            "image/png": "[encoded data removed]",
            "text/plain": [
              "<Figure size 432x288 with 1 Axes>"
            ]
          },
          "metadata": {
            "needs_background": "light"
          }
        }
      ]
    }
  ]
}