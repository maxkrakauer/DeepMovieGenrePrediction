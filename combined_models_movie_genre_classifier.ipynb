{
  "nbformat": 4,
  "nbformat_minor": 0,
  "metadata": {
    "colab": {
      "name": "combined_models_movie_genre_classifier.ipynb",
      "provenance": [],
      "collapsed_sections": [],
      "authorship_tag": "ABX9TyMH/iN7gJeBMPO2v5lXVfiF",
      "include_colab_link": true
    },
    "kernelspec": {
      "name": "python3",
      "display_name": "Python 3"
    },
    "language_info": {
      "name": "python"
    }
  },
  "cells": [
    {
      "cell_type": "markdown",
      "metadata": {
        "id": "view-in-github",
        "colab_type": "text"
      },
      "source": [
        "<a href=\"https://colab.research.google.com/github/maxkrakauer/DeepMovieGenrePrediction/blob/main/combined_models_movie_genre_classifier.ipynb\" target=\"_parent\"><img src=\"https://colab.research.google.com/assets/colab-badge.svg\" alt=\"Open In Colab\"/></a>"
      ]
    },
    {
      "cell_type": "markdown",
      "metadata": {
        "id": "-3B5bV_1b3wy"
      },
      "source": [
        "Loading and Processing Data\n"
      ]
    },
    {
      "cell_type": "code",
      "metadata": {
        "id": "eZttSqCxIqXs"
      },
      "source": [
        "!pip install tensorflow"
      ],
      "execution_count": null,
      "outputs": []
    },
    {
      "cell_type": "code",
      "metadata": {
        "id": "56Libkq0IrDw",
        "colab": {
          "base_uri": "https://localhost:8080/"
        },
        "outputId": "a9bafad1-e033-4538-ef2c-83f7395ea6ff"
      },
      "source": [
        "from google.colab import drive\n",
        "drive.mount('/content/drive',force_remount=False)"
      ],
      "execution_count": null,
      "outputs": [
        {
          "output_type": "stream",
          "text": [
            "Mounted at /content/drive\n"
          ],
          "name": "stdout"
        }
      ]
    },
    {
      "cell_type": "code",
      "metadata": {
        "id": "pAEk55K7JEAs"
      },
      "source": [
        "!unzip /content/drive/MyDrive/FinalProject/img_41K.zip #/content/drive/MyDrive/Final Project/img_41K_edited.zip"
      ],
      "execution_count": null,
      "outputs": []
    },
    {
      "cell_type": "code",
      "metadata": {
        "colab": {
          "base_uri": "https://localhost:8080/"
        },
        "id": "tjcSKIpRKLBy",
        "outputId": "45104ead-f7f5-4aeb-b4ee-0cc2fbe14b03"
      },
      "source": [
        "import pandas as pd\n",
        "import numpy as np\n",
        "import csv\n",
        "\n",
        "data = pd.read_csv('/content/drive/MyDrive/FinalProject/movie_plots_by_poster_revised.csv') #,encoding = \"ISO-8859-1\"\n",
        "truncat = data[:30000]\n",
        "truncat.values[0][4]"
      ],
      "execution_count": null,
      "outputs": [
        {
          "output_type": "execute_result",
          "data": {
            "text/plain": [
              "7.4"
            ]
          },
          "metadata": {
            "tags": []
          },
          "execution_count": 4
        }
      ]
    },
    {
      "cell_type": "code",
      "metadata": {
        "id": "68nKZJ8XOUyH"
      },
      "source": [
        "import tensorflow as tf\n",
        "from tensorflow.keras import Sequential\n",
        "from tensorflow.keras.layers import Flatten, Dense, Dropout, BatchNormalization, Conv2D, MaxPool2D\n",
        "from tensorflow.keras.optimizers import Adam\n",
        "from tensorflow.keras.preprocessing import image\n",
        "import numpy as np\n",
        "import pandas as pd\n",
        "import matplotlib.pyplot as plt\n",
        "from sklearn.model_selection import train_test_split\n",
        "from tqdm import tqdm"
      ],
      "execution_count": null,
      "outputs": []
    },
    {
      "cell_type": "code",
      "metadata": {
        "id": "2fLCsAxMPNeK",
        "colab": {
          "base_uri": "https://localhost:8080/"
        },
        "outputId": "63def5ab-8f44-4c17-c6e1-15f32aceb773"
      },
      "source": [
        "import drive\n",
        "import os.path\n",
        "from tqdm import tqdm\n",
        "\n",
        "pic_width = 224\n",
        "pic_height = 224\n",
        "x_posters_train = []\n",
        "x_posters_test = []\n",
        "for i in tqdm(range(int(truncat.shape[0]))):\n",
        "  if i > int(30000*0.80)-1 :\n",
        "    path = '/content/img_41K/'+ str(data['id'][i]) +'.jpg'\n",
        "    #print(i)\n",
        "    img = image.load_img(path, target_size=(pic_width,pic_height,3))\n",
        "    img = image.img_to_array(img)\n",
        "    img = img/255.0\n",
        "    x_posters_test.append(img)\n",
        "  else:\n",
        "    path = '/content/img_41K/'+ str(data['id'][i]) +'.jpg' #/content/img_41K/10907.jpg\n",
        "    #print(i)\n",
        "    img = image.load_img(path, target_size=(pic_width,pic_height,3))\n",
        "    img = image.img_to_array(img)\n",
        "    img = img/255.0\n",
        "    x_posters_train.append(img)"
      ],
      "execution_count": null,
      "outputs": [
        {
          "output_type": "stream",
          "text": [
            "100%|██████████| 30000/30000 [01:40<00:00, 299.40it/s]\n"
          ],
          "name": "stderr"
        }
      ]
    },
    {
      "cell_type": "code",
      "metadata": {
        "id": "CTE2kwHKNoTD"
      },
      "source": [
        "import tensorflow_hub as hub\n",
        "import tensorflow as tf\n",
        "import torch\n",
        "\n",
        "plot_model = \"https://tfhub.dev/google/universal-sentence-encoder/4\"\n",
        "hub_layer = hub.KerasLayer(plot_model, input_shape=[], dtype=tf.string, trainable=True)"
      ],
      "execution_count": null,
      "outputs": []
    },
    {
      "cell_type": "code",
      "metadata": {
        "id": "Gl9T9kfINv7q",
        "colab": {
          "base_uri": "https://localhost:8080/"
        },
        "outputId": "6221e3ce-36f6-49cc-fbf7-b81a2a38b2d1"
      },
      "source": [
        "import numpy as np\n",
        "\n",
        "import tensorflow as tf\n",
        "import tensorflow_hub as hub\n",
        "import tensorflow_datasets as tfds\n",
        "\n",
        "import matplotlib.pyplot as plt\n",
        "\n",
        "print(\"Version: \", tf.__version__)\n",
        "print(\"Eager mode: \", tf.executing_eagerly())\n",
        "print(\"Hub version: \", hub.__version__)\n",
        "print(\"GPU is\", \"available\" if tf.config.list_physical_devices('GPU') else \"NOT AVAILABLE\")"
      ],
      "execution_count": null,
      "outputs": [
        {
          "output_type": "stream",
          "text": [
            "Version:  2.5.0\n",
            "Eager mode:  True\n",
            "Hub version:  0.12.0\n",
            "GPU is NOT AVAILABLE\n"
          ],
          "name": "stdout"
        }
      ]
    },
    {
      "cell_type": "code",
      "metadata": {
        "id": "HQAZ-0gON28b"
      },
      "source": [
        "x_plots = truncat.drop(['id','poster','title','year','rating','genre','action','adventure','animation','comedy','crime','drama','fantasy','horror','mystery','romance','sci-fi','short','thriller'], axis = 1)\n",
        "x_plots = x_plots.to_numpy()"
      ],
      "execution_count": null,
      "outputs": []
    },
    {
      "cell_type": "code",
      "metadata": {
        "id": "rbBijb2MrkBe",
        "colab": {
          "base_uri": "https://localhost:8080/"
        },
        "outputId": "9658a50f-b9bd-4eb4-bb33-af2f8ff72fc6"
      },
      "source": [
        "print(len(x_plots))"
      ],
      "execution_count": null,
      "outputs": [
        {
          "output_type": "stream",
          "text": [
            "30000\n"
          ],
          "name": "stdout"
        }
      ]
    },
    {
      "cell_type": "code",
      "metadata": {
        "id": "t2rA0Yrk3kwQ",
        "colab": {
          "base_uri": "https://localhost:8080/"
        },
        "outputId": "188e0489-4663-4faf-c99e-03572e544b18"
      },
      "source": [
        "train_len = len(x_posters_train)\n",
        "print(train_len)\n",
        "\n",
        "test_len = len(x_posters_test)\n",
        "print(test_len)"
      ],
      "execution_count": null,
      "outputs": [
        {
          "output_type": "stream",
          "text": [
            "24000\n",
            "6000\n"
          ],
          "name": "stdout"
        }
      ]
    },
    {
      "cell_type": "code",
      "metadata": {
        "id": "MKLgh2GRD690"
      },
      "source": [
        "import numpy as np\n",
        "x_posters_train = np.array(x_posters_train)\n",
        "x_posters_test = np.array(x_posters_test)"
      ],
      "execution_count": null,
      "outputs": []
    },
    {
      "cell_type": "code",
      "metadata": {
        "id": "tyk94QIwmdfl"
      },
      "source": [
        "# import the necessary packages\n",
        "from tensorflow.keras.models import Sequential\n",
        "from tensorflow.keras.layers import BatchNormalization\n",
        "from tensorflow.keras.layers import Conv2D\n",
        "from tensorflow.keras.layers import MaxPooling2D\n",
        "from tensorflow.keras.layers import Activation\n",
        "from tensorflow.keras.layers import Dropout\n",
        "from tensorflow.keras.layers import Dense\n",
        "from tensorflow.keras.layers import Flatten\n",
        "from tensorflow.keras.layers import Input\n",
        "from tensorflow.keras.models import Model\n",
        "\n",
        "from sklearn.model_selection import train_test_split\n",
        "from tensorflow.keras.layers import Dense\n",
        "from tensorflow.keras.models import Model\n",
        "from tensorflow.keras.optimizers import Adam\n",
        "from tensorflow.keras.layers import concatenate\n",
        "import numpy as np\n",
        "import argparse\n",
        "import locale\n",
        "import os\n",
        "\n",
        "from tensorflow.keras.models import Sequential\n",
        "from tensorflow.keras.layers import BatchNormalization\n",
        "from tensorflow.keras.layers import Conv2D\n",
        "from tensorflow.keras.layers import MaxPooling2D\n",
        "from tensorflow.keras.layers import Activation\n",
        "from tensorflow.keras.layers import Dropout\n",
        "from tensorflow.keras.layers import Dense\n",
        "from tensorflow.keras.layers import Flatten\n",
        "from tensorflow.keras.layers import Input\n",
        "from tensorflow.keras.models import Model\n",
        "\n",
        "from tensorflow.keras.layers import Dense\n",
        "from tensorflow.keras.models import Model\n",
        "from tensorflow.keras.optimizers import Adam\n",
        "from tensorflow.keras.layers import concatenate\n",
        "import numpy as np\n",
        "import argparse\n",
        "import locale\n",
        "import os"
      ],
      "execution_count": null,
      "outputs": []
    },
    {
      "cell_type": "markdown",
      "metadata": {
        "id": "z12jrcPRcFrE"
      },
      "source": [
        "CNN Model"
      ]
    },
    {
      "cell_type": "code",
      "metadata": {
        "id": "MNjsCG8ImsX-",
        "colab": {
          "base_uri": "https://localhost:8080/"
        },
        "outputId": "73618f95-d340-48fb-8d84-e3b555c51a0f"
      },
      "source": [
        "inputA = tf.keras.Input(shape= x_posters_train[0].shape )\n",
        "poster_model = tf.keras.Sequential()\n",
        "# the first branch operates on the first input\n",
        "poster_model = Conv2D(16, 3, activation='relu')(inputA)\n",
        "poster_model = BatchNormalization()(poster_model)\n",
        "poster_model = MaxPool2D(pool_size=(2, 2))(poster_model)\n",
        "poster_model = Dropout(0.1)(poster_model)\n",
        "\n",
        "poster_model = Conv2D(32, 3, activation='relu')(poster_model)\n",
        "poster_model = BatchNormalization()(poster_model)\n",
        "poster_model = MaxPool2D(pool_size=(2, 2))(poster_model)\n",
        "\n",
        "poster_model = Conv2D(64, 3, activation='relu')(poster_model)\n",
        "poster_model = BatchNormalization()(poster_model)\n",
        "poster_model = MaxPool2D(pool_size=(2, 2))(poster_model)\n",
        "poster_model = Dropout(0.2)(poster_model)\n",
        "\n",
        "poster_model = Conv2D(128, 3, activation='relu')(poster_model)\n",
        "poster_model = BatchNormalization()(poster_model)\n",
        "poster_model = MaxPool2D(pool_size=(2, 2))(poster_model)\n",
        "\n",
        "poster_model = Flatten()(poster_model)\n",
        "\n",
        "poster_model = Dense(128, activation='relu')(poster_model)\n",
        "poster_model = BatchNormalization()(poster_model)\n",
        "\n",
        "poster_model = Dense(16, activation='sigmoid')(poster_model)\n",
        "#poster_model = BatchNormalization()(poster_model)\n",
        "\n",
        "\n",
        "poster_model = tf.keras.Model(inputs=inputA, outputs=poster_model)\n",
        "\n",
        "\"\"\"\n",
        "poster_model = Dense(13,activation=\"sigmoid\")(poster_model)\n",
        "poster_model = tf.keras.Model(inputs=inputA, outputs=poster_model)\n",
        "\"\"\"\n",
        "\n",
        "poster_model.summary()"
      ],
      "execution_count": null,
      "outputs": [
        {
          "output_type": "stream",
          "text": [
            "Model: \"model\"\n",
            "_________________________________________________________________\n",
            "Layer (type)                 Output Shape              Param #   \n",
            "=================================================================\n",
            "input_1 (InputLayer)         [(None, 224, 224, 3)]     0         \n",
            "_________________________________________________________________\n",
            "conv2d (Conv2D)              (None, 222, 222, 16)      448       \n",
            "_________________________________________________________________\n",
            "batch_normalization (BatchNo (None, 222, 222, 16)      64        \n",
            "_________________________________________________________________\n",
            "max_pooling2d (MaxPooling2D) (None, 111, 111, 16)      0         \n",
            "_________________________________________________________________\n",
            "dropout (Dropout)            (None, 111, 111, 16)      0         \n",
            "_________________________________________________________________\n",
            "conv2d_1 (Conv2D)            (None, 109, 109, 32)      4640      \n",
            "_________________________________________________________________\n",
            "batch_normalization_1 (Batch (None, 109, 109, 32)      128       \n",
            "_________________________________________________________________\n",
            "max_pooling2d_1 (MaxPooling2 (None, 54, 54, 32)        0         \n",
            "_________________________________________________________________\n",
            "conv2d_2 (Conv2D)            (None, 52, 52, 64)        18496     \n",
            "_________________________________________________________________\n",
            "batch_normalization_2 (Batch (None, 52, 52, 64)        256       \n",
            "_________________________________________________________________\n",
            "max_pooling2d_2 (MaxPooling2 (None, 26, 26, 64)        0         \n",
            "_________________________________________________________________\n",
            "dropout_1 (Dropout)          (None, 26, 26, 64)        0         \n",
            "_________________________________________________________________\n",
            "conv2d_3 (Conv2D)            (None, 24, 24, 128)       73856     \n",
            "_________________________________________________________________\n",
            "batch_normalization_3 (Batch (None, 24, 24, 128)       512       \n",
            "_________________________________________________________________\n",
            "max_pooling2d_3 (MaxPooling2 (None, 12, 12, 128)       0         \n",
            "_________________________________________________________________\n",
            "flatten (Flatten)            (None, 18432)             0         \n",
            "_________________________________________________________________\n",
            "dense (Dense)                (None, 128)               2359424   \n",
            "_________________________________________________________________\n",
            "batch_normalization_4 (Batch (None, 128)               512       \n",
            "_________________________________________________________________\n",
            "dense_1 (Dense)              (None, 16)                2064      \n",
            "=================================================================\n",
            "Total params: 2,460,400\n",
            "Trainable params: 2,459,664\n",
            "Non-trainable params: 736\n",
            "_________________________________________________________________\n"
          ],
          "name": "stdout"
        }
      ]
    },
    {
      "cell_type": "markdown",
      "metadata": {
        "id": "1fyY0-0McLWp"
      },
      "source": [
        "Hub Layer (Universal Sentence Encoder)"
      ]
    },
    {
      "cell_type": "code",
      "metadata": {
        "id": "Aet8ABSjm6qz",
        "colab": {
          "base_uri": "https://localhost:8080/"
        },
        "outputId": "c9663885-f9d6-42cd-8afc-4a7f531ea95b"
      },
      "source": [
        "#plot_model = \"https://tfhub.dev/google/universal-sentence-encoder/4\"\n",
        "hub_layer = hub.KerasLayer(plot_model, input_shape=[], dtype=tf.string, trainable=True)\n",
        "#hub_layer = hub.KerasLayer(hub_handle, output_shape=[20], input_shape=[], dtype=tf.string, trainable=True)\n",
        "input = Input(shape=(), name=\"Input\", dtype=tf.string)\n",
        "net = hub_layer(input)\n",
        "output = tf.keras.layers.Dense(16, activation='relu')(net)\n",
        "#output = tf.keras.layers.Dense(13)(net)\n",
        "plot_model = Model(input, output)\n",
        "plot_model.summary()"
      ],
      "execution_count": null,
      "outputs": [
        {
          "output_type": "stream",
          "text": [
            "Model: \"model_6\"\n",
            "_________________________________________________________________\n",
            "Layer (type)                 Output Shape              Param #   \n",
            "=================================================================\n",
            "Input (InputLayer)           [(None,)]                 0         \n",
            "_________________________________________________________________\n",
            "keras_layer_2 (KerasLayer)   (None, 16)                256806032 \n",
            "_________________________________________________________________\n",
            "dense_7 (Dense)              (None, 16)                272       \n",
            "=================================================================\n",
            "Total params: 256,806,304\n",
            "Trainable params: 256,806,304\n",
            "Non-trainable params: 0\n",
            "_________________________________________________________________\n"
          ],
          "name": "stdout"
        }
      ]
    },
    {
      "cell_type": "markdown",
      "metadata": {
        "id": "YOp6aEOFcRTC"
      },
      "source": [
        "Model that combines the two previous models"
      ]
    },
    {
      "cell_type": "code",
      "metadata": {
        "id": "G6RV2WpPnGMv"
      },
      "source": [
        "combined = tf.keras.layers.concatenate([plot_model.output, poster_model.output])"
      ],
      "execution_count": null,
      "outputs": []
    },
    {
      "cell_type": "code",
      "metadata": {
        "id": "AQwzezzSnMrm"
      },
      "source": [
        "z = tf.keras.layers.Dense(32, activation=\"relu\")(combined)\n",
        "z = tf.keras.layers.Dense(64, activation=\"relu\")(z)\n",
        "z = tf.keras.layers.Dense(128, activation=\"relu\")(z)\n",
        "z = tf.keras.layers.Dense(13)(z)"
      ],
      "execution_count": null,
      "outputs": []
    },
    {
      "cell_type": "code",
      "metadata": {
        "id": "GkY5WGmCnPyn",
        "colab": {
          "base_uri": "https://localhost:8080/"
        },
        "outputId": "3824481d-4a69-40c8-db46-2efca67bb805"
      },
      "source": [
        "mymodel = tf.keras.Model(inputs=[plot_model.input, poster_model.input], outputs=z)\n",
        "mymodel.output_shape"
      ],
      "execution_count": null,
      "outputs": [
        {
          "output_type": "execute_result",
          "data": {
            "text/plain": [
              "(None, 13)"
            ]
          },
          "metadata": {
            "tags": []
          },
          "execution_count": 38
        }
      ]
    },
    {
      "cell_type": "code",
      "metadata": {
        "id": "sOKIkD36-UtN",
        "colab": {
          "base_uri": "https://localhost:8080/"
        },
        "outputId": "126b7212-435a-4b88-b487-09ede4bc1898"
      },
      "source": [
        "mymodel.summary()"
      ],
      "execution_count": null,
      "outputs": [
        {
          "output_type": "stream",
          "text": [
            "Model: \"model_7\"\n",
            "__________________________________________________________________________________________________\n",
            "Layer (type)                    Output Shape         Param #     Connected to                     \n",
            "==================================================================================================\n",
            "input_1 (InputLayer)            [(None, 224, 224, 3) 0                                            \n",
            "__________________________________________________________________________________________________\n",
            "conv2d (Conv2D)                 (None, 222, 222, 16) 448         input_1[0][0]                    \n",
            "__________________________________________________________________________________________________\n",
            "batch_normalization (BatchNorma (None, 222, 222, 16) 64          conv2d[0][0]                     \n",
            "__________________________________________________________________________________________________\n",
            "max_pooling2d (MaxPooling2D)    (None, 111, 111, 16) 0           batch_normalization[0][0]        \n",
            "__________________________________________________________________________________________________\n",
            "dropout (Dropout)               (None, 111, 111, 16) 0           max_pooling2d[0][0]              \n",
            "__________________________________________________________________________________________________\n",
            "conv2d_1 (Conv2D)               (None, 109, 109, 32) 4640        dropout[0][0]                    \n",
            "__________________________________________________________________________________________________\n",
            "batch_normalization_1 (BatchNor (None, 109, 109, 32) 128         conv2d_1[0][0]                   \n",
            "__________________________________________________________________________________________________\n",
            "max_pooling2d_1 (MaxPooling2D)  (None, 54, 54, 32)   0           batch_normalization_1[0][0]      \n",
            "__________________________________________________________________________________________________\n",
            "conv2d_2 (Conv2D)               (None, 52, 52, 64)   18496       max_pooling2d_1[0][0]            \n",
            "__________________________________________________________________________________________________\n",
            "batch_normalization_2 (BatchNor (None, 52, 52, 64)   256         conv2d_2[0][0]                   \n",
            "__________________________________________________________________________________________________\n",
            "max_pooling2d_2 (MaxPooling2D)  (None, 26, 26, 64)   0           batch_normalization_2[0][0]      \n",
            "__________________________________________________________________________________________________\n",
            "dropout_1 (Dropout)             (None, 26, 26, 64)   0           max_pooling2d_2[0][0]            \n",
            "__________________________________________________________________________________________________\n",
            "conv2d_3 (Conv2D)               (None, 24, 24, 128)  73856       dropout_1[0][0]                  \n",
            "__________________________________________________________________________________________________\n",
            "batch_normalization_3 (BatchNor (None, 24, 24, 128)  512         conv2d_3[0][0]                   \n",
            "__________________________________________________________________________________________________\n",
            "max_pooling2d_3 (MaxPooling2D)  (None, 12, 12, 128)  0           batch_normalization_3[0][0]      \n",
            "__________________________________________________________________________________________________\n",
            "flatten (Flatten)               (None, 18432)        0           max_pooling2d_3[0][0]            \n",
            "__________________________________________________________________________________________________\n",
            "Input (InputLayer)              [(None,)]            0                                            \n",
            "__________________________________________________________________________________________________\n",
            "dense (Dense)                   (None, 128)          2359424     flatten[0][0]                    \n",
            "__________________________________________________________________________________________________\n",
            "keras_layer_2 (KerasLayer)      (None, 16)           256806032   Input[0][0]                      \n",
            "__________________________________________________________________________________________________\n",
            "batch_normalization_4 (BatchNor (None, 128)          512         dense[0][0]                      \n",
            "__________________________________________________________________________________________________\n",
            "dense_7 (Dense)                 (None, 16)           272         keras_layer_2[0][0]              \n",
            "__________________________________________________________________________________________________\n",
            "dense_1 (Dense)                 (None, 16)           2064        batch_normalization_4[0][0]      \n",
            "__________________________________________________________________________________________________\n",
            "concatenate_1 (Concatenate)     (None, 32)           0           dense_7[0][0]                    \n",
            "                                                                 dense_1[0][0]                    \n",
            "__________________________________________________________________________________________________\n",
            "dense_8 (Dense)                 (None, 32)           1056        concatenate_1[0][0]              \n",
            "__________________________________________________________________________________________________\n",
            "dense_9 (Dense)                 (None, 64)           2112        dense_8[0][0]                    \n",
            "__________________________________________________________________________________________________\n",
            "dense_10 (Dense)                (None, 128)          8320        dense_9[0][0]                    \n",
            "__________________________________________________________________________________________________\n",
            "dense_11 (Dense)                (None, 13)           1677        dense_10[0][0]                   \n",
            "==================================================================================================\n",
            "Total params: 259,279,869\n",
            "Trainable params: 259,279,133\n",
            "Non-trainable params: 736\n",
            "__________________________________________________________________________________________________\n"
          ],
          "name": "stdout"
        }
      ]
    },
    {
      "cell_type": "code",
      "metadata": {
        "id": "Nr1UTSnC5cl0"
      },
      "source": [
        "from tensorflow import keras\n",
        "from tensorflow.keras import layers\n",
        "from tensorflow.keras.optimizers import Adam\n",
        "#opt = Adam(lr=1e-3, decay=1e-3 / 200)\n",
        "opt = keras.optimizers.Adam(learning_rate=0.01)\n",
        "\n",
        "mymodel.compile(optimizer='adam',\n",
        "              loss=tf.losses.BinaryCrossentropy(from_logits=True),\n",
        "              metrics=[tf.metrics.BinaryAccuracy(threshold=0.0, name='accuracy')])\n",
        "              \n",
        "#mymodel.compile(loss='categorical_crossentropy', optimizer=opt, metrics=['accuracy'])"
      ],
      "execution_count": null,
      "outputs": []
    },
    {
      "cell_type": "code",
      "metadata": {
        "id": "yq7Oez1jncZO"
      },
      "source": [
        "y = truncat.drop(['id','poster','title','year','rating','genre','plot'], axis = 1)\n",
        "y = y.to_numpy()"
      ],
      "execution_count": null,
      "outputs": []
    },
    {
      "cell_type": "code",
      "metadata": {
        "id": "hIkORQMVnjWg",
        "colab": {
          "base_uri": "https://localhost:8080/"
        },
        "outputId": "db70d46d-bc24-4967-f7b8-305e49e1d73a"
      },
      "source": [
        "print(len(x_posters_train))\n",
        "x_posters_val = x_posters_train[0:5000]\n",
        "x_posters_train = x_posters_train[5000:24000]\n",
        "\n",
        "print(len(x_posters_val))\n",
        "\n",
        "x_plots_val = x_plots[0:5000]\n",
        "x_plots_train = x_plots[5000:24000]\n",
        "x_plots_test = x_plots[24000:]\n",
        "\n",
        "print(len(x_plots_train))\n",
        "\n",
        "y_val = y[:5000]\n",
        "y_train = y[5000:24000]\n",
        "y_test = y[24000:]\n"
      ],
      "execution_count": null,
      "outputs": [
        {
          "output_type": "stream",
          "text": [
            "24000\n",
            "5000\n",
            "19000\n"
          ],
          "name": "stdout"
        }
      ]
    },
    {
      "cell_type": "code",
      "metadata": {
        "id": "sPa36MbsqKmC",
        "colab": {
          "base_uri": "https://localhost:8080/"
        },
        "outputId": "bd78b47a-f9e5-463f-fd46-e356f8bc0d71"
      },
      "source": [
        "history = mymodel.fit([x_plots_train,x_posters_train],\n",
        "                    y_train,\n",
        "                    epochs=4,\n",
        "                    batch_size=100,\n",
        "                    validation_data=([x_plots_val, x_posters_val],y_val),\n",
        "                    verbose=1)"
      ],
      "execution_count": null,
      "outputs": [
        {
          "output_type": "stream",
          "text": [
            "Epoch 1/4\n",
            "190/190 [==============================] - 299s 2s/step - loss: 0.4259 - accuracy: 0.8250 - val_loss: 0.3948 - val_accuracy: 0.8441\n",
            "Epoch 2/4\n",
            "190/190 [==============================] - 294s 2s/step - loss: 0.3526 - accuracy: 0.8464 - val_loss: 0.3511 - val_accuracy: 0.8449\n",
            "Epoch 3/4\n",
            "190/190 [==============================] - 294s 2s/step - loss: 0.2905 - accuracy: 0.8725 - val_loss: 0.3235 - val_accuracy: 0.8597\n",
            "Epoch 4/4\n",
            "190/190 [==============================] - 296s 2s/step - loss: 0.2334 - accuracy: 0.9003 - val_loss: 0.3506 - val_accuracy: 0.8558\n"
          ],
          "name": "stdout"
        }
      ]
    },
    {
      "cell_type": "code",
      "metadata": {
        "id": "zT1-GaN405x0",
        "colab": {
          "base_uri": "https://localhost:8080/"
        },
        "outputId": "fdca026b-e908-4a45-fa31-85682368d957"
      },
      "source": [
        "results = mymodel.evaluate([x_plots_test,x_posters_test], y_test)"
      ],
      "execution_count": null,
      "outputs": [
        {
          "output_type": "stream",
          "text": [
            "188/188 [==============================] - 12s 58ms/step - loss: 0.3752 - accuracy: 0.8500\n"
          ],
          "name": "stdout"
        }
      ]
    },
    {
      "cell_type": "code",
      "metadata": {
        "id": "k0g8jBZFt1Lq"
      },
      "source": [
        "history_dict = history.history\n",
        "history_dict.keys()"
      ],
      "execution_count": null,
      "outputs": []
    },
    {
      "cell_type": "code",
      "metadata": {
        "id": "OtTFZ0Ekt5bJ"
      },
      "source": [
        "import matplotlib.pyplot as plt\n",
        "\n",
        "acc = history_dict['accuracy']\n",
        "val_acc = history_dict['val_accuracy']\n",
        "loss = history_dict['loss']\n",
        "val_loss = history_dict['val_loss']\n",
        "\n",
        "epochs = range(1, len(acc) + 1)\n",
        "\n",
        "# \"bo\" is for \"blue dot\"\n",
        "plt.plot(epochs, loss, 'bo', label='Training loss')\n",
        "# b is for \"solid blue line\"\n",
        "plt.plot(epochs, val_loss, 'b', label='Validation loss')\n",
        "plt.title('Training and validation loss')\n",
        "plt.xlabel('Epochs')\n",
        "plt.ylabel('Loss')\n",
        "plt.legend()\n",
        "\n",
        "plt.show()"
      ],
      "execution_count": null,
      "outputs": []
    },
    {
      "cell_type": "code",
      "metadata": {
        "id": "FBLkW7lpuuT7"
      },
      "source": [
        "plt.clf()   # clear figure\n",
        "\n",
        "plt.plot(epochs, acc, 'bo', label='Training acc')\n",
        "plt.plot(epochs, val_acc, 'b', label='Validation acc')\n",
        "plt.title('Training and validation accuracy')\n",
        "plt.xlabel('Epochs')\n",
        "plt.ylabel('Accuracy')\n",
        "plt.legend()\n",
        "\n",
        "plt.show()"
      ],
      "execution_count": null,
      "outputs": []
    }
  ]
}